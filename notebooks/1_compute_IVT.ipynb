{
 "cells": [
  {
   "cell_type": "markdown",
   "metadata": {},
   "source": [
    "# Compute Integrated Vapor Transport IVT from u-, v- fluxes\n",
    "\n",
    "This notebook loads the sample data (the u- and v- components of vertically integrated vapor fluxes) and compute the their magnitude: IVT.\n",
    "\n",
    "In production you can use `compute_ivt.py` in the `scripts` folder for this step.\n",
    "\n",
    "\n",
    "## Definition\n",
    "\n",
    "\n",
    "IVT is simply defined as:\n",
    "\n",
    "$IVT = \\sqrt{u^2 + v^2}$, in $kg/m/s$.\n",
    "\n",
    "where:\n",
    "\n",
    "* u: u-component of vertically integrated vapor fluxes, in kg/m/s.\n",
    "* v: v-component of vertically integrated vapor fluxes, in kg/m/s.\n",
    "\n",
    "\n",
    "## Input data\n",
    "\n",
    "Some metadata of the sample data:\n",
    "\n",
    "* Source: ERA-I Reanalysis data \n",
    "* Temporal resolution: 6-hourly instantaneous snapshots.\n",
    "* Horizontal resolution: 0.75 x 0.75 degree latitude/longitude.\n",
    "* Temporal domain: 1984-01-01 -- 1984-01-31\n",
    "* Spatial domain: 10-80 N, 0-360 E.\n",
    "* Data format: netCDF.\n",
    "* Size of data: ~10 Mb each.\n",
    "\n",
    "The sample was obtained from the ERA Interim data web interface at:\n",
    "https://apps.ecmwf.int/datasets/data/interim-full-daily/levtype=sfc/. The variable name for `uflux` on the web interface is \"Vertical integral of eastward water vapour flux\", and `vflux` is \"Vertical integral of northward water vapour flux\". The temporal and spatial domain was set according to the metadata listed above.\n",
    "\n",
    "\n",
    "## Steps\n",
    "\n",
    "\n",
    "Execute the following code blocks in sequence.\n",
    "\n",
    "\n",
    "## Results\n",
    "\n",
    "It will read in the *uflux* and *vflux* files, print out their meta data, compute the IVT value.\n",
    "If run successfully, a new netCDF data file (`ivt_s_6_1984_Jan.nc`) will be created, saving the computed IVT data.\n"
   ]
  },
  {
   "cell_type": "code",
   "execution_count": null,
   "metadata": {},
   "outputs": [],
   "source": [
    "%matplotlib inline\n",
    "import os\n",
    "import cdms2 as cdms\n",
    "import MV2 as MV\n",
    "from ipart.utils import funcs\n",
    "\n",
    "UFLUX_FILE=os.path.join('.', 'uflux_s_6_1984_Jan.nc')\n",
    "VFLUX_FILE=os.path.join('.', 'vflux_s_6_1984_Jan.nc')\n",
    "OUTPUTFILE=os.path.join('.', 'ivt_s_6_1984_Jan.nc')\n",
    "\n",
    "if not os.path.exists(UFLUX_FILE):\n",
    "    raise Exception('UFLUX_FILE not found. Please make sure you downloaded the data file and save to the same dir as the notebook file.')\n",
    "if not os.path.exists(VFLUX_FILE):\n",
    "    raise Exception('VFLUX_FILE not found. Please make sure you downloaded the data file and save to the same dir as the notebook file.')"
   ]
  },
  {
   "cell_type": "code",
   "execution_count": null,
   "metadata": {},
   "outputs": [],
   "source": [
    "#-----------Read in data----------------------\n",
    "uflux=funcs.readVar(UFLUX_FILE, 'p71.162') # 'p71.162' is the id code for u-flux\n",
    "vflux=funcs.readVar(VFLUX_FILE, 'p72.162') # 'p72.162' is the id code for v-flux\n",
    "\n",
    "#-----------Print meta data------------------\n",
    "print('\\n######## Info of uflux ########')\n",
    "print(uflux.info())"
   ]
  },
  {
   "cell_type": "code",
   "execution_count": null,
   "metadata": {},
   "outputs": [],
   "source": [
    "print('Latitude of uflux:')\n",
    "print(uflux.getLatitude())"
   ]
  },
  {
   "cell_type": "code",
   "execution_count": null,
   "metadata": {},
   "outputs": [],
   "source": [
    "print('Longitude of uflux:')\n",
    "print(uflux.getLongitude())"
   ]
  },
  {
   "cell_type": "code",
   "execution_count": null,
   "metadata": {},
   "outputs": [],
   "source": [
    "print('Time axis of uflux:')\n",
    "print(uflux.getTime())"
   ]
  },
  {
   "cell_type": "code",
   "execution_count": null,
   "metadata": {},
   "outputs": [],
   "source": [
    "print('######## Info of uflux ########')\n",
    "print(vflux.info())\n",
    "\n",
    "# Please note that your input data need to have proper latitude,\n",
    "# longitude and time axes, like the uflux above."
   ]
  },
  {
   "cell_type": "code",
   "execution_count": null,
   "metadata": {},
   "outputs": [],
   "source": [
    "# compute ivt\n",
    "\n",
    "ivt=MV.sqrt(uflux*uflux+vflux*vflux)\n",
    "ivt.id='ivt'\n",
    "ivt.long_name='integrated vapor transport (IVT)'\n",
    "ivt.standard_name=ivt.long_name\n",
    "ivt.title=ivt.long_name\n",
    "ivt.units=getattr(uflux, 'units', '')\n",
    "\n",
    "#--------Save------------------------------------\n",
    "print('\\n# Saving output to:\\n',OUTPUTFILE)\n",
    "fout=cdms.open(OUTPUTFILE,'w')\n",
    "fout.write(ivt,typecode='f')\n",
    "fout.close()\n",
    "\n",
    "#------- Plot some figure -----------\n",
    "import matplotlib.pyplot as plt\n",
    "from ipart.utils import plot\n",
    "\n",
    "figure=plt.figure(figsize=(7,10),dpi=100)\n",
    "idx=100  # select the 101th time step from the beginning\n",
    "time_str=uflux.getTime().asComponentTime()[idx]\n",
    "\n",
    "plot_vars=[uflux[idx], vflux[idx], ivt[idx]]\n",
    "titles=['U', 'V', 'IVT']\n",
    "\n",
    "for ii, vii in enumerate(plot_vars):\n",
    "    axii=figure.add_subplot(3,1,ii+1)\n",
    "    iso=plot.Isofill(vii, 10, 1, 2)\n",
    "    plot.plot2(vii, iso, axii,\n",
    "            title='%s, %s' %(str(time_str), titles[ii]),\n",
    "            legend='local',\n",
    "            projection='cyl',\n",
    "            fix_aspect=False)\n",
    "\n",
    "figure.show()"
   ]
  },
  {
   "cell_type": "code",
   "execution_count": null,
   "metadata": {},
   "outputs": [],
   "source": []
  }
 ],
 "metadata": {
  "kernelspec": {
   "display_name": "Python 2",
   "language": "python",
   "name": "python2"
  },
  "language_info": {
   "codemirror_mode": {
    "name": "ipython",
    "version": 2
   },
   "file_extension": ".py",
   "mimetype": "text/x-python",
   "name": "python",
   "nbconvert_exporter": "python",
   "pygments_lexer": "ipython2",
   "version": "2.7.18"
  }
 },
 "nbformat": 4,
 "nbformat_minor": 4
}
