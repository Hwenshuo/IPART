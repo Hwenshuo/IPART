{
 "cells": [
  {
   "cell_type": "markdown",
   "metadata": {},
   "source": [
    "# Decompose the IVT field into a background and a anomaly component\n",
    "\n",
    "\n",
    "This notebook will apply the Top-hat by Reconstruction (THR) algorithm on the computed IVT from the previous step, and the outputs will be used for AR appearance detection in the next notebook.\n",
    "\n",
    "In production you can use the `compute_thr_singlefile.py` or `compute_thr_multifile.py` for this step.\n",
    "\n",
    "\n",
    "## Input data\n",
    "\n",
    "* `ivt_m1-60_6_1984_crop.nc`: Integrated Vapor Transport (IVT), in kg/m/s.\n",
    "\n",
    "## Steps\n",
    "\n",
    "1. Make sure you have successfully run the previous notebook.\n",
    "2. Execute the following code blocks in sequence.\n",
    "\n",
    "\n",
    "## Results\n",
    "\n",
    "* `ivt_m1-60_6_1984_crop-minimal-rec-ano-kernel-t16-s6.nc`: decomposition of IVT using the THR algorithm, into a reconstruction component (`ivt_rec`) and the anomaly component (`ivt_ano`), both in kg/m/s.\n"
   ]
  },
  {
   "cell_type": "markdown",
   "metadata": {},
   "source": [
    "## Set global parameters\n",
    "\n",
    "Set the path of the input netCDF file, the id of the IVT data, the folder to save the outputs.\n",
    "\n",
    "`LAT1` and `LAT2` selects the latitude range to process.\n",
    "\n",
    "`SHIFT_LON` shifts the data along the x-dimension by 80 degrees so the Pacific and Atlantic oceans are centered.\n",
    "\n",
    "`KERNEL` is the most important parameter. It is a list/tuple of ints, specifying the shape of the kernel (aka structuring element) during the gray erosion process. Read the paper for more detailed explanations. A rule-of-thumb is that you should set the kernel size to be consistent with the typical synoptic spatio-temporal scales.\n",
    "\n",
    "E.g.\n",
    "\n",
    "Assuming the data is 6-hourly, at $0.75 \\times 0.75$ degree longitude/latitude resolution. We want the temporal scale to be about a week, therefore $t = 16$. This is because 16 time steps of 6-hourly data is 4 days, and the **total** length is $16 \\times 2 + 1 = 33$ time steps, giving $33 \\times 6 = 108 hrs$, about a week's time. The extra added time step is to ensure an odd numbered kernel length.\n",
    "\n",
    "Similarly, for the spatial scale we want it to be about $1000 km$. With $s=6$ and a horizontal resolution of $0.75 \\times 0.75$ degrees, this gives a length of $6 \\times 2 + 1 = 13$ grid cells, about $1140 \\, km$.\n",
    "\n",
    "Combing the above: `KERNEL=[16, 6, 6]`.\n",
    "\n",
    "If your input data have $0.25 \\times 0.25$ degree horizontal resolution, then $s$ should be scaled to $18$ to be consistent."
   ]
  },
  {
   "cell_type": "code",
   "execution_count": null,
   "metadata": {},
   "outputs": [],
   "source": [
    "%matplotlib inline\n",
    "import os, sys\n",
    "module_path = os.path.abspath(os.path.join('..'))\n",
    "if module_path not in sys.path:\n",
    "    sys.path.append(module_path)\n",
    "\n",
    "import cdms2 as cdms\n",
    "import MV2 as MV\n",
    "import numpy as np\n",
    "from skimage import morphology\n",
    "from utils import funcs\n",
    "from compute_thr_singlefile import filterData\n",
    "\n",
    "## Parameters\n",
    "\n",
    "#-----------IVT data----------------------\n",
    "IVT_FILE=os.path.join('.', 'ivt_m1-60_6_1984_crop.nc')\n",
    "VARIN='ivt'          # data id in nc file\n",
    "\n",
    "LAT1=0; LAT2=90      # degree, latitude domain\n",
    "\n",
    "#-------Structuring element for erosion (E)-------\n",
    "KERNEL=[16,6,6]   # half length of time (time steps), and half length of spatial (number of grids)\n",
    "\n",
    "SHIFT_LON=80  # shift longitudinally to center Pacific and Altantic\n",
    "\n",
    "#------------------Output folder------------------\n",
    "OUTPUTDIR=os.path.abspath('.')"
   ]
  },
  {
   "cell_type": "markdown",
   "metadata": {},
   "source": [
    "Then the input data are read in, crop the desired latitude, and shift the longitude."
   ]
  },
  {
   "cell_type": "code",
   "execution_count": null,
   "metadata": {},
   "outputs": [],
   "source": [
    "if not os.path.exists(OUTPUTDIR):\n",
    "    os.makedirs(OUTPUTDIR)\n",
    "\n",
    "#-----------Read in data----------------------\n",
    "var=funcs.readVar(IVT_FILE, 'ivt')\n",
    "\n",
    "#-----------------Shift longitude-----------------\n",
    "var=var(latitude=(LAT1, LAT2))\n",
    "var=var(longitude=(SHIFT_LON,SHIFT_LON+360))\n",
    "\n",
    "print('var.shape=', var.shape)"
   ]
  },
  {
   "cell_type": "markdown",
   "metadata": {},
   "source": [
    "Perform the THR process. This might take a couple of minutes (depending on your machine of cause). And save the output to the same directory as this notebook file."
   ]
  },
  {
   "cell_type": "code",
   "execution_count": null,
   "metadata": {},
   "outputs": [],
   "source": [
    "#----------------------Do THR----------------------\n",
    "ivt, ivtrec, ivtano=filterData(var, KERNEL)\n",
    "\n",
    "#--------Save------------------------------------\n",
    "fname=os.path.split(IVT_FILE)[1]\n",
    "file_out_name='%s-minimal-rec-ano-kernel-t%d-s%d.nc'\\\n",
    "        %(os.path.splitext(fname)[0], KERNEL[0], KERNEL[1])\n",
    "\n",
    "abpath_out=os.path.join(OUTPUTDIR,file_out_name)\n",
    "print('\\n### <testrotatingfilter>: Saving output to:\\n',abpath_out)\n",
    "fout=cdms.open(abpath_out,'w')\n",
    "fout.write(ivt,typecode='f')\n",
    "fout.write(ivtrec,typecode='f')\n",
    "fout.write(ivtano,typecode='f')\n",
    "fout.close()"
   ]
  },
  {
   "cell_type": "markdown",
   "metadata": {},
   "source": [
    "Create some plots using results at an arbitrary time point."
   ]
  },
  {
   "cell_type": "code",
   "execution_count": null,
   "metadata": {},
   "outputs": [],
   "source": [
    "#------- Plot a figure -----------\n",
    "import matplotlib.pyplot as plt\n",
    "from utils import plot\n",
    "\n",
    "figure=plt.figure(figsize=(7,10),dpi=100)\n",
    "idx=100  # select the 101th time step from the beginning\n",
    "time_str=ivt.getTime().asComponentTime()[idx]\n",
    "\n",
    "plot_vars=[ivt[idx], ivtrec[idx], ivtano[idx]]\n",
    "iso=plot.Isofill(plot_vars, 12, 1, 1, min_level=0, qr=0.001)\n",
    "titles=['IVT (=IVT_rec + IVT_ano)', 'IVT_rec', 'IVT_ano']\n",
    "\n",
    "for ii, vii in enumerate(plot_vars):\n",
    "    axii=figure.add_subplot(3,1,ii+1)\n",
    "    \n",
    "    plot.plot2(vii, iso, axii,\n",
    "            title='%s, %s' %(str(time_str), titles[ii]),\n",
    "            legend='local',\n",
    "            projection='cyl',\n",
    "            fix_aspect=False)\n",
    "\n",
    "figure.show()"
   ]
  },
  {
   "cell_type": "code",
   "execution_count": null,
   "metadata": {},
   "outputs": [],
   "source": []
  }
 ],
 "metadata": {
  "kernelspec": {
   "display_name": "Python 3",
   "language": "python",
   "name": "python3"
  },
  "language_info": {
   "codemirror_mode": {
    "name": "ipython",
    "version": 3
   },
   "file_extension": ".py",
   "mimetype": "text/x-python",
   "name": "python",
   "nbconvert_exporter": "python",
   "pygments_lexer": "ipython3",
   "version": "3.7.7"
  }
 },
 "nbformat": 4,
 "nbformat_minor": 4
}
