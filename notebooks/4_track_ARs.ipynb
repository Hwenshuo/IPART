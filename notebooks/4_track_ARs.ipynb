{
 "cells": [
  {
   "cell_type": "markdown",
   "metadata": {},
   "source": [
    "# Track ARs at consecutive time steps to form tracks\n",
    "\n",
    "This notebook tracks detected ARs at individual time steps to form tracks.\n",
    "\n",
    "Specifically, assume we have detected $n$ ARs at time $t$, and $m$ ARs at time $t+1$. There are theoretically $n \\times m$ possible associations to link these two groups of ARs. Of cause not all of them are meaningful. The rules that are applied in the association process are:\n",
    "\n",
    "1. **nearest neighbor** principle: for any AR at time $t$, the nearest AR at time $t+1$ \"wins\" and is associated with it, subject to that:\n",
    "2. the **inter-AR distance (H)** is $\\le 1200 \\, km$.\n",
    "3. no merging or splitting is allowed, any AR at time $t$ can only be linked to one AR at time $t+1$, similarly, any AR at time $t+1$ can only be linked to one AR at time $t$.\n",
    "4. after all associations at any give time point have been created, any left-over AR at time $t+1$ forms a track on their own, and waits to be associated in the next iteration between $t+1$ and $t+2$.\n",
    "5. all tracks that do not get updated during the $t$ - $t+1$ process terminates. This assumes that no gap in the track is allowed. \n",
    "\n",
    "The remaining important question is how to define that **inter-AR distance (H)**. Here we adopt a modified *Hausdorff distance* definition:\n",
    "\n",
    "\\begin{equation}\n",
    "\tH(A,B) \\equiv min \\{ h_f(A,B), h_b(A,B) \\}\n",
    "\\end{equation}\n",
    "\n",
    "where $H(A, B)$ is the *modified Hausdorff distance* from track $A$ to track $B$,\n",
    "$h_f(A,B)$ is the *forward Hausdorff distance* from $A$ to $B$, and $h_b(A,B)$ the *backward Hausdorff distance* from $A$ to $B$. They are defined, respectively, as:\n",
    "\n",
    "\\begin{equation}\n",
    "\th_f(A, B) \\equiv \\operatorname*{max}_{a \\in A} \\{ \\operatorname*{min}_{b \\in B} \\{\n",
    "\t\td_g(a,b) \\} \\}\n",
    "\\end{equation}\n",
    "\n",
    "\n",
    "namely, the largest great circle distance of all distances from a point in $A$ to the\n",
    "closest point in $B$. And the backward Hausdorff distance is:\n",
    "\n",
    "\\begin{equation}\n",
    "\th_b(A, B) \\equiv \\operatorname*{max}_{b \\in B} \\{ \\operatorname*{min}_{a \\in A} \\{\n",
    "\t\td_g(a,b) \\} \\}\n",
    "\\end{equation}\n",
    "\n",
    "Note that in general $h_f \\neq h_b$. Unlike the standard definition of\n",
    "Hausdorff distance that takes the maximum of $h_f$ and $h_b$, we take the\n",
    "minimum of the two. \n",
    "\n",
    "The rationale behind this modification is that merging/splitting of ARs mostly\n",
    "happen in an end-to-end manner, during which a sudden increase/decrease in the\n",
    "length of the AR induce misalignment among the anchor points. Specifically,\n",
    "merging (splitting) tends to induce large backward (forward) Hausdorff\n",
    "distance.  Therefore $min \\{ h_f(A,B), h_b(A,B) \\}$ offers a more faithful\n",
    "description of the spatial closeness of ARs. For merging/splitting events in a\n",
    "side-to-side manner, this definition works just as well.\n",
    "\n",
    "\n",
    "\n",
    "In production you can use the `scripts/trace_ARs.py` for this step.\n",
    "\n",
    "\n",
    "## Input data\n",
    "\n",
    "* `ar_records.csv`: a csv table saving various attributes for each detected AR appearance at all time steps. This is the output from the previous step.\n",
    "\n",
    "\n",
    "## Steps\n",
    "\n",
    "1. Make sure you have successfully run the previous notebook.\n",
    "2. Execute the following code blocks in sequence.\n",
    "\n",
    "\n",
    "## Results\n",
    "\n",
    "* `ar_tracks_1984.csv`: a csv table listing various attributes for each AR track.\n",
    "* `plots/ar_track_198405.png` (optional): plot of the geographical locations of the track with id `198405` during its evolutions.\n",
    "* `plots/linkages_scheme_simple_YYYY-MM-DD_HH-00-00.png` (optional): schematic illustration of the association process using the modified Hausdorff distance as the inter-AR distance measure between the time step of `YYYY-MM-DD_HH-00-00` and the one before it.\n"
   ]
  },
  {
   "cell_type": "markdown",
   "metadata": {},
   "source": [
    "# Set parameters\n",
    "\n",
    "As before, first we give the locations to the input and output data using `RECORD_FILE` and `OUTPUTDIR`.\n",
    "\n",
    "`SCHEMATIC` is boolean flag controls whether a schematic illustration of the track association process is created.\n",
    "\n",
    "`LAT1`, `LAT2`, `LON1` and `LON2` control the domain to plot results."
   ]
  },
  {
   "cell_type": "code",
   "execution_count": null,
   "metadata": {},
   "outputs": [],
   "source": [
    "%matplotlib inline\n",
    "import os\n",
    "\n",
    "RECORD_FILE=os.path.join('1984', 'ar_records.csv')\n",
    "OUTPUTDIR=os.path.join('.', '1984')\n",
    "\n",
    "SCHEMATIC=True   # plot schematic or not\n",
    "\n",
    "LAT1=0; LAT2=90; LON1=80; LON2=440         # domain to plot"
   ]
  },
  {
   "cell_type": "markdown",
   "metadata": {},
   "source": [
    "Below is the important parameters used in the tracking process.\n",
    "\n",
    "* `TIME_GAP_ALLOW`: int, hours, the temporal gap allowed to link 2 records. For instance, if input data has 6-hourly resolution, and `TIME_GAP_ALLOW` is set to 6, then only consecutive records are allowed to be linked. If `TIME_GAP_ALLOW` is 12, then a single gap in time can be allowed.\n",
    "* `TRACK_SCHEME`: 'simple' or 'full'. If 'simple', each track is a topological simple path, i.e. no merging or splitting is allowed. If 'full', merging and splitting are allowed. For most applications 'simple' makes good sense. 'full' scheme is useful for case studies, e.g. you are interested how 2 particular ARs are merging/splitting.\n",
    "* `MAX_DIST_ALLOW`: float, $km$, maximum Hausdorff distance to link 2 ARs. About $\\sim 1000 \\, km$ is a good choice for 6-hourly data, and this does not seem to be a sensitive parameter. If using daily data, you should probably choose a larger number.\n",
    "* `MIN_DURATION`: int, minimum required number of hours of a track.\n",
    "* `MIN_NONRELAX`: int, minimum required number of non-relaxed records in a track. "
   ]
  },
  {
   "cell_type": "code",
   "execution_count": null,
   "metadata": {},
   "outputs": [],
   "source": [
    "# Int, hours, gap allowed to link 2 records. Should be the time resolution of\n",
    "# the data.\n",
    "TIME_GAP_ALLOW=6\n",
    "\n",
    "# tracking scheme. 'simple': all tracks are simple paths.\n",
    "# 'full': use the network scheme, tracks are connected by their joint points.\n",
    "TRACK_SCHEME='simple'  # 'simple' | 'full'\n",
    "\n",
    "# int, max Hausdorff distance in km to define a neighborhood relationship\n",
    "MAX_DIST_ALLOW=1200  # km\n",
    "\n",
    "# int, min duration in hrs to keep a track.\n",
    "MIN_DURATION=24\n",
    "\n",
    "# int, min number of non-relaxed records in a track to keep a track.\n",
    "MIN_NONRELAX=1"
   ]
  },
  {
   "cell_type": "markdown",
   "metadata": {},
   "source": [
    "Import modules"
   ]
  },
  {
   "cell_type": "code",
   "execution_count": null,
   "metadata": {},
   "outputs": [],
   "source": [
    "#--------Import modules-------------------------\n",
    "import os, sys\n",
    "import numpy as np\n",
    "import pandas as pd\n",
    "import matplotlib.pyplot as plt\n",
    "\n",
    "from ipart.AR_tracer import readCSVRecord, trackARs, filterTracks, plotAR"
   ]
  },
  {
   "cell_type": "markdown",
   "metadata": {},
   "source": [
    "Then read in the data from the previous step -- the `csv` table containing AR records at individual time points.\n",
    "\n",
    "Also make sure the output folder exists."
   ]
  },
  {
   "cell_type": "code",
   "execution_count": null,
   "metadata": {},
   "outputs": [],
   "source": [
    "print('\\n# Read in file:\\n', 'ar_records.csv')\n",
    "ardf=readCSVRecord(RECORD_FILE)\n",
    "\n",
    "if not os.path.exists(OUTPUTDIR):\n",
    "    os.makedirs(OUTPUTDIR)\n",
    "\n",
    "if SCHEMATIC:\n",
    "    plot_dir=os.path.join(OUTPUTDIR, 'plots')\n",
    "    if not os.path.exists(plot_dir):\n",
    "        os.makedirs(plot_dir)"
   ]
  },
  {
   "cell_type": "markdown",
   "metadata": {},
   "source": [
    "The tracking process is handled with this single function `trackARs()`.\n",
    "\n",
    "* `ardf` is the `pandas.DataFrame` object we just read in.\n",
    "* `track_list` is a list of `AR` objects, the class definition can be found in `ipart.AR_tracer.py`."
   ]
  },
  {
   "cell_type": "code",
   "execution_count": null,
   "metadata": {
    "scrolled": true
   },
   "outputs": [],
   "source": [
    "track_list=trackARs(ardf, TIME_GAP_ALLOW, MAX_DIST_ALLOW,\n",
    "        track_scheme=TRACK_SCHEME, isplot=SCHEMATIC, plot_dir=plot_dir)"
   ]
  },
  {
   "cell_type": "markdown",
   "metadata": {},
   "source": [
    "We can have a peak into what `track_list` contains:"
   ]
  },
  {
   "cell_type": "code",
   "execution_count": null,
   "metadata": {},
   "outputs": [],
   "source": [
    "print('Number of AR tracks = ', len(track_list))\n",
    "print(track_list[0])"
   ]
  },
  {
   "cell_type": "code",
   "execution_count": null,
   "metadata": {},
   "outputs": [],
   "source": [
    "track_list[0].data"
   ]
  },
  {
   "cell_type": "code",
   "execution_count": null,
   "metadata": {},
   "outputs": [],
   "source": [
    "track_list[0].duration"
   ]
  },
  {
   "cell_type": "code",
   "execution_count": null,
   "metadata": {},
   "outputs": [],
   "source": [
    "track_list[7].data"
   ]
  },
  {
   "cell_type": "code",
   "execution_count": null,
   "metadata": {},
   "outputs": [],
   "source": [
    "track_list[6].duration"
   ]
  },
  {
   "cell_type": "markdown",
   "metadata": {},
   "source": [
    "Each `AR` object in `track_list` stores a sequence of AR records that form a single track. The 1st one, `track_list[0]` is a short track with only 1 record. This one will be filtered out given a minimum duration requirement of 24 hours.\n",
    "\n",
    "The 7th one, `track_list[6]`, lasted for 36 hours.\n",
    "\n",
    "To filter out short tracks, and those that consist only of *relaxed* AR records: "
   ]
  },
  {
   "cell_type": "code",
   "execution_count": null,
   "metadata": {},
   "outputs": [],
   "source": [
    "#------------------Filter tracks------------------\n",
    "track_list=filterTracks(track_list, MIN_DURATION, MIN_NONRELAX)\n",
    "print(len(track_list))"
   ]
  },
  {
   "cell_type": "markdown",
   "metadata": {},
   "source": [
    "Note that now the number of tracks has dropped to 9.\n",
    "\n",
    "Lets plot out the sequence of an AR. Only the AR axis is plotted, and a black-to-yellow color scheme is used to indicate the evolution of the AR."
   ]
  },
  {
   "cell_type": "code",
   "execution_count": null,
   "metadata": {},
   "outputs": [],
   "source": [
    "latax=np.arange(LAT1, LAT2)\n",
    "lonax=np.arange(LON1, LON2)\n",
    "\n",
    "plot_ar=track_list[7]\n",
    "\n",
    "figure=plt.figure(figsize=(12,6),dpi=100)\n",
    "ax=figure.add_subplot(111)\n",
    "plotAR(plot_ar,latax,lonax,True,ax=ax)"
   ]
  },
  {
   "cell_type": "markdown",
   "metadata": {},
   "source": [
    "## As the last step, save the results to disk."
   ]
  },
  {
   "cell_type": "code",
   "execution_count": null,
   "metadata": {},
   "outputs": [],
   "source": [
    "#-------------------Save output-------------------\n",
    "for ii in range(len(track_list)):\n",
    "    tii=track_list[ii]\n",
    "    trackidii='%d%d' %(tii.data.loc[0,'time'].year, ii+1)\n",
    "    tii.data.loc[:,'trackid']=trackidii\n",
    "    tii.trackid=trackidii\n",
    "\n",
    "    if ii==0:\n",
    "        trackdf=tii.data\n",
    "    else:\n",
    "        trackdf=pd.concat([trackdf,tii.data],ignore_index=True)\n",
    "\n",
    "    figure=plt.figure(figsize=(12,6),dpi=100)\n",
    "    ax=figure.add_subplot(111)\n",
    "    plotAR(tii,latax,lonax,True,ax=ax)\n",
    "\n",
    "    #----------------- Save plot------------\n",
    "    plot_save_name='ar_track_%s' %trackidii\n",
    "    plot_save_name=os.path.join(plot_dir,plot_save_name)\n",
    "    print('\\n# <river_tracker2>: Save figure to', plot_save_name)\n",
    "    figure.savefig(plot_save_name+'.png',dpi=100,bbox_inches='tight')\n",
    "\n",
    "    plt.close(figure)\n",
    "\n",
    "#--------Save------------------------------------\n",
    "abpath_out=os.path.join(OUTPUTDIR,'ar_tracks_1984.csv')\n",
    "print('\\n# Saving output to:\\n',abpath_out)\n",
    "if sys.version_info.major==2:\n",
    "    np.set_printoptions(threshold=np.inf)\n",
    "elif sys.version_info.major==3:\n",
    "    np.set_printoptions(threshold=sys.maxsize)\n",
    "trackdf.to_csv(abpath_out,index=False)"
   ]
  },
  {
   "cell_type": "code",
   "execution_count": null,
   "metadata": {},
   "outputs": [],
   "source": []
  }
 ],
 "metadata": {
  "kernelspec": {
   "display_name": "Python 2",
   "language": "python",
   "name": "python2"
  },
  "language_info": {
   "codemirror_mode": {
    "name": "ipython",
    "version": 2
   },
   "file_extension": ".py",
   "mimetype": "text/x-python",
   "name": "python",
   "nbconvert_exporter": "python",
   "pygments_lexer": "ipython2",
   "version": "2.7.18"
  }
 },
 "nbformat": 4,
 "nbformat_minor": 4
}
